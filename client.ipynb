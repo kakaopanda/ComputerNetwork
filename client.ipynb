{
 "cells": [
  {
   "cell_type": "code",
   "execution_count": null,
   "metadata": {},
   "outputs": [
    {
     "name": "stdout",
     "output_type": "stream",
     "text": [
      "first_header:GET /HelloWorld.html HTTP/1.1\r\n",
      "Accept:text/html,application/xhtml+xml,application/xml;q=0.9,*/*;q=0.8\r\n",
      "Accept-Language:en-us\r\n",
      "Host:127.0.0.1:1756\n"
     ]
    }
   ],
   "source": [
    "from socket import *\n",
    "import sys\n",
    "\n",
    "#1. 명령줄 인수 : 서버의 IP주소(argv[1]), 서버가 수신 중인 포트(argv[2]), 서버가 요청할 개체(argv[3]) 설정\n",
    "# argv[0] -> 항상 프로그램명 혹은 프로그램 실행 경로가 지정된다.\n",
    "# server_host = sys.argv[1], server_port = sys.argv[2], filename = sys.argv[3]\n",
    "\n",
    "# 프로그램 검증 상의 편의를 위해, 명령줄 인수로 대입될 값들을 미리 지정하여 사용한다.\n",
    "server_host = '127.0.0.1'\n",
    "server_port = 1756\n",
    "filename = 'HelloWorld.html'\n",
    "host_port = \"%s:%s\" %(server_host, server_port)\n",
    "\n",
    "#2. TCP 연결을 사용하여 서버에 연결한다.\n",
    "try:\n",
    "    #IPv4(AF_INET) 주소체계를 사용하는 TCP 소켓(SOCK_STREAM) 생성\n",
    "\tclient_socket = socket(AF_INET,SOCK_STREAM)\n",
    "\tclient_socket.connect((server_host,int(server_port)))\n",
    "    \n",
    "    #3. 서버에 HTTP 요청을 전송한다.\n",
    "    # filename과 host_port의 값을 추가하여 HTTP 헤더를 정의한다.\n",
    "\theader = {\n",
    "\t\"first_header\" : \"GET /%s HTTP/1.1\" %(filename),\n",
    "\t\"Accept\": \"text/html,application/xhtml+xml,application/xml;q=0.9,*/*;q=0.8\",\n",
    "\t\"Accept-Language\": \"en-us\",\n",
    "\t\"Host\": host_port,\n",
    "\t}\n",
    "\thttp_header = \"\\r\\n\".join(\"%s:%s\" %(item,header[item]) for item in header)\n",
    "    # 생성된 HTTP 헤더를 출력한다.\n",
    "\tprint (http_header)\n",
    "    \n",
    "    # 전송할 메시지의 형태는 바이트 스트림으로 제공되어야 하므로, 문자열을 encode()해야한다.\n",
    "\tclient_socket.send((http_header+\"\\r\\n\\r\\n\").encode())\n",
    "\n",
    "except IOError:\n",
    "\tsys.exit(1)\n",
    "    \n",
    "#4. 서버 응답을 출력으로 표시한다.\n",
    "ServerResponse=\"\"\n",
    "response_message=client_socket.recv(1024)\n",
    "while response_message:\n",
    "    # 서버의 응답 메시지(response_message)는  바이트 스트림 형태로 제공되므로, 문자열로 변환하기 위해 decode()해야한다.\n",
    "\tServerResponse += response_message.decode() \n",
    "\tresponse_message = client_socket.recv(1024)\n",
    "\n",
    "# 문자열로 변환한 서버의 응답 메시지를 출력한다.\n",
    "print (\"ServerResponse:\",ServerResponse)\n",
    "\n",
    "# 클라이언트 소켓을 종료한다.\n",
    "client_socket.close()\n",
    "\n"
   ]
  },
  {
   "cell_type": "code",
   "execution_count": null,
   "metadata": {},
   "outputs": [],
   "source": []
  }
 ],
 "metadata": {
  "kernelspec": {
   "display_name": "Python 3",
   "language": "python",
   "name": "python3"
  },
  "language_info": {
   "codemirror_mode": {
    "name": "ipython",
    "version": 3
   },
   "file_extension": ".py",
   "mimetype": "text/x-python",
   "name": "python",
   "nbconvert_exporter": "python",
   "pygments_lexer": "ipython3",
   "version": "3.8.3"
  }
 },
 "nbformat": 4,
 "nbformat_minor": 4
}
