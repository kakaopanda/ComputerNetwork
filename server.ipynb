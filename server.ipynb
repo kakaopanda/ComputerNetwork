{
 "cells": [
  {
   "cell_type": "code",
   "execution_count": null,
   "metadata": {},
   "outputs": [
    {
     "name": "stdout",
     "output_type": "stream",
     "text": [
      "Ready to serve...\n",
      "Ready to serve...\n",
      "Ready to serve...\n",
      "Ready to serve...\n",
      "Ready to serve...\n"
     ]
    }
   ],
   "source": [
    "#import socket module\n",
    "from socket import *\n",
    "import sys # In order to terminate the program\n",
    "\n",
    "#IPv4(AF_INET) 주소체계를 사용하는 TCP 소켓(SOCK_STREAM) 생성\n",
    "serverSocket = socket(AF_INET, SOCK_STREAM) \n",
    "\n",
    "#Prepare a sever socket (클라이언트의 접근을 허용하기 위해, 서버 소켓을 준비한다.)\n",
    "serverSocket.bind(('', 1756)) # host(IP 주소)와 port(포트 번호)로 소켓을 연결한다.\n",
    "serverSocket.listen(1) # 최대 1개의 클라이언트가 순차적으로 접속할 때까지 대기한다.\n",
    "\n",
    "while True:\n",
    "    #Establish the connection\n",
    "    print ('Ready to serve...')\n",
    "    connectionSocket, addr = serverSocket.accept() # 연결을 허용하여, connectionSocket 변수에는 클라이언트 소켓이 저장되고 addr에는 클라이언트의 IP 주소를 저장한다.\n",
    "    try:\n",
    "        #클라이언트 소켓으로부터 한 번에 최대 1024바이트 크기의 TCP 메시지를 받는다.\n",
    "        message = connectionSocket.recv(1024)\n",
    "\n",
    "        #클라이언트 소켓으로부터 받은 메시지를 통해 요청하는 파일 이름을 추출한다.\n",
    "        filename = message.split()[1]\n",
    "        f = open(filename[1:])\n",
    "        outputdata = f.read()\n",
    "        f.close()\n",
    "        \n",
    "        #Send one HTTP header line into socket\n",
    "        #서버에서 클라이언트 소켓으로 응답 성공 메시지를 전송한다.\n",
    "        connectionSocket.send('HTTP/1.0 200 OK\\r\\n\\r\\n'.encode())\n",
    "        \n",
    "        #Send the content of the requested file to the client\n",
    "        for i in range(0, len(outputdata)):\n",
    "            connectionSocket.send(outputdata[i].encode())\n",
    "        connectionSocket.send(\"\\r\\n\".encode())\n",
    "        #Close client socket (클라이언트 소켓을 종료한다.)\n",
    "        connectionSocket.close()\n",
    "        \n",
    "    except IOError:\n",
    "        #Send response message for file not found (파일을 찾지 못했을 때, 응답 메시지를 전송한다.)\n",
    "        connectionSocket.send('404 Not Found'.encode())\n",
    "        #Close client socket (클라이언트 소켓을 종료한다.)\n",
    "        connectionSocket.close()\n",
    "\n",
    "#Close server socket (서버 소켓을 종료한다.)\n",
    "serverSocket.close() \n",
    "#Terminate the program after sending the corresponding data  (응답 메시지를 전송한 뒤, 프로그램을 종료한다.)\n",
    "sys.exit() "
   ]
  }
 ],
 "metadata": {
  "kernelspec": {
   "display_name": "Python 3",
   "language": "python",
   "name": "python3"
  },
  "language_info": {
   "codemirror_mode": {
    "name": "ipython",
    "version": 3
   },
   "file_extension": ".py",
   "mimetype": "text/x-python",
   "name": "python",
   "nbconvert_exporter": "python",
   "pygments_lexer": "ipython3",
   "version": "3.8.3"
  }
 },
 "nbformat": 4,
 "nbformat_minor": 4
}
